{
 "cells": [
  {
   "cell_type": "markdown",
   "metadata": {},
   "source": [
    "## Import Libraries"
   ]
  },
  {
   "cell_type": "code",
   "execution_count": 200,
   "metadata": {},
   "outputs": [],
   "source": [
    "from langchain.chains.question_answering import load_qa_chain\n",
    "from langchain.document_loaders import PyPDFDirectoryLoader\n",
    "from langchain.text_splitter import RecursiveCharacterTextSplitter\n",
    "from langchain_ollama import OllamaEmbeddings\n",
    "from langchain.vectorstores import Pinecone\n",
    "from langchain.prompts import PromptTemplate\n",
    "from langchain_google_genai import ChatGoogleGenerativeAI\n",
    "from pinecone import Pinecone, ServerlessSpec\n",
    "from langchain_pinecone import PineconeVectorStore\n",
    "import os"
   ]
  },
  {
   "cell_type": "markdown",
   "metadata": {},
   "source": [
    "## Importing document"
   ]
  },
  {
   "cell_type": "code",
   "execution_count": 201,
   "metadata": {},
   "outputs": [],
   "source": [
    "# Lets Read the document\n",
    "def read_doc(directory):\n",
    "    file_loader = PyPDFDirectoryLoader(directory)\n",
    "    documents = file_loader.load()\n",
    "    return documents"
   ]
  },
  {
   "cell_type": "code",
   "execution_count": 202,
   "metadata": {},
   "outputs": [
    {
     "data": {
      "text/plain": [
       "266"
      ]
     },
     "execution_count": 202,
     "metadata": {},
     "output_type": "execute_result"
    }
   ],
   "source": [
    "doc = read_doc('./document')\n",
    "len(doc)"
   ]
  },
  {
   "cell_type": "markdown",
   "metadata": {},
   "source": [
    "## Create Chunks"
   ]
  },
  {
   "cell_type": "code",
   "execution_count": 203,
   "metadata": {},
   "outputs": [],
   "source": [
    "def chunk_data(docs, chunk_size=800, chunk_overlap=50):\n",
    "    text_splitter = RecursiveCharacterTextSplitter(\n",
    "        chunk_size=chunk_size, chunk_overlap=chunk_overlap)\n",
    "    doc = text_splitter.split_documents(docs)\n",
    "    return docs"
   ]
  },
  {
   "cell_type": "code",
   "execution_count": 204,
   "metadata": {},
   "outputs": [
    {
     "data": {
      "text/plain": [
       "266"
      ]
     },
     "execution_count": 204,
     "metadata": {},
     "output_type": "execute_result"
    }
   ],
   "source": [
    "documents = chunk_data(docs=doc)\n",
    "len(documents)"
   ]
  },
  {
   "cell_type": "markdown",
   "metadata": {},
   "source": [
    "## Embeddings"
   ]
  },
  {
   "cell_type": "code",
   "execution_count": 205,
   "metadata": {},
   "outputs": [
    {
     "data": {
      "text/plain": [
       "OllamaEmbeddings(model='llama3.1', base_url=None, client_kwargs={})"
      ]
     },
     "execution_count": 205,
     "metadata": {},
     "output_type": "execute_result"
    }
   ],
   "source": [
    "embeddings = OllamaEmbeddings(\n",
    "    model=\"llama3.1\"\n",
    ")\n",
    "embeddings"
   ]
  },
  {
   "cell_type": "code",
   "execution_count": 206,
   "metadata": {},
   "outputs": [
    {
     "name": "stdout",
     "output_type": "stream",
     "text": [
      "[0.0142708905, 0.0037594007, 0.0086252345]\n"
     ]
    }
   ],
   "source": [
    "input_text = \"The meaning of life is 42\"\n",
    "vector = embeddings.embed_query(input_text)\n",
    "print(vector[:3])"
   ]
  },
  {
   "cell_type": "markdown",
   "metadata": {},
   "source": [
    "## PineCone"
   ]
  },
  {
   "cell_type": "code",
   "execution_count": 207,
   "metadata": {},
   "outputs": [],
   "source": [
    "pc = Pinecone(api_key=os.getenv(\"PINECONE_API_KEY\"))\n",
    "index_name = \"government\""
   ]
  },
  {
   "cell_type": "code",
   "execution_count": 208,
   "metadata": {},
   "outputs": [],
   "source": [
    "index = pc.Index(index_name)"
   ]
  },
  {
   "cell_type": "code",
   "execution_count": 209,
   "metadata": {},
   "outputs": [
    {
     "name": "stdout",
     "output_type": "stream",
     "text": [
      "Index government already exists\n"
     ]
    }
   ],
   "source": [
    "if index is not None:\n",
    "    print(f\"Index {index_name} already exists\")\n",
    "else:\n",
    "    index = pc.create_index(name=index_name, metric=\"cosine\", dimension=4096,\n",
    "                            spec=ServerlessSpec(cloud=\"aws\", region=\"us-east-1\"))"
   ]
  },
  {
   "cell_type": "code",
   "execution_count": 210,
   "metadata": {},
   "outputs": [],
   "source": [
    "vector_store = PineconeVectorStore(index=index, embedding=embeddings, index_name=index_name)"
   ]
  },
  {
   "cell_type": "code",
   "execution_count": 211,
   "metadata": {},
   "outputs": [],
   "source": [
    "# vector_store.add_documents(documents=doc)"
   ]
  },
  {
   "cell_type": "code",
   "execution_count": 212,
   "metadata": {},
   "outputs": [],
   "source": [
    "# Cosine Similarity Retreive Results from VectorDB\n",
    "def retrieve_query(store, query, k=5):\n",
    "    matching_results = store.similarity_search(query, k=k)\n",
    "    return matching_results"
   ]
  },
  {
   "cell_type": "markdown",
   "metadata": {},
   "source": [
    "## Loading Gemini"
   ]
  },
  {
   "cell_type": "code",
   "execution_count": 213,
   "metadata": {},
   "outputs": [
    {
     "data": {
      "text/plain": [
       "True"
      ]
     },
     "execution_count": 213,
     "metadata": {},
     "output_type": "execute_result"
    }
   ],
   "source": [
    "from dotenv import load_dotenv\n",
    "load_dotenv()"
   ]
  },
  {
   "cell_type": "code",
   "execution_count": 214,
   "metadata": {},
   "outputs": [],
   "source": [
    "llm = ChatGoogleGenerativeAI(\n",
    "    model=\"gemini-1.5-pro\", google_api_key=os.getenv(\"GEMINI_API_KEY\"), temperature=0.5)"
   ]
  },
  {
   "cell_type": "code",
   "execution_count": 215,
   "metadata": {},
   "outputs": [],
   "source": [
    "chain = load_qa_chain(llm,chain_type=\"stuff\")"
   ]
  },
  {
   "cell_type": "code",
   "execution_count": 216,
   "metadata": {},
   "outputs": [],
   "source": [
    "def retrieve_answers(store, query):\n",
    "    doc_search = retrieve_query(store, query)\n",
    "    print(doc_search)\n",
    "    response = chain.run(input_documents=doc_search, question=query)\n",
    "    return response"
   ]
  },
  {
   "cell_type": "code",
   "execution_count": 217,
   "metadata": {},
   "outputs": [
    {
     "name": "stdout",
     "output_type": "stream",
     "text": [
      "[Document(id='0e83091b-c99f-43ee-9a8d-9c782d17403d', metadata={'page': 176.0, 'source': 'document/MSME_Schemes.pdf'}, page_content='NITI AAYOG SCHEMES'), Document(id='5917c908-29ec-4999-b27d-ad0cd5b9cad4', metadata={'page': 230.0, 'source': 'document/MSME_Schemes.pdf'}, page_content='background, would suffice for being eligible for \\nthis selection under Skills and Placement under \\nASDP .\\nHow to apply? Eligible entrepreneurs can approach the nearest \\nPIAs (Project Implementing Agencies) are for \\nprofit or not-for-profit registered entities \\nidentified by ASDP  for skilling and placing the \\nidentified youth in various sectors as per their \\ninterest.\\nDescription The Mahatma Gandhi National Rural \\nEmployment Guarantee Act, 2005 (MGNREGA) \\nwas notified on September 7, 2005.The mandate \\nof the Act is to provide at least 100 days of \\nguaranteed wage employment in a financial year \\nto every rural household whose adult members \\nvolunteer to do unskilled manual work.\\nMGNREGA  is focused towards a set of particular non-urban growth \\nactions such as: water preservation and growing, \\naforestation, non-urban connection, overflow \\ncontrol and security such as growth and fix of \\nembankments, etc. so by improving these \\nnecessary field , the government of Indian want to \\nmake country a developed one. This job scheme is \\nhighly popular among the people of the country . \\nSearching of new tanks/ponds, percolation \\naquariums and growth of small check public \\nperforms are also given significance. \\nNature of assistanceAs the main agenda of MGNREGA  is to provide a \\ndecent lifestyle for the rural people its approach is \\nto Related scheme MGNREGA   Programme\\n205'), Document(id='d9c60128-2fba-4355-9b23-8eee5ebcc391', metadata={'page': 90.0, 'source': 'document/MSME_Schemes.pdf'}, page_content='The scheme shall be implemented through Public-\\nPrivate and Public-Public partnerships.\\nThe scheme will provide monetary incentives for \\nsuccessful completion of market-driven skill \\ntraining to approximately Rs.10 lakh youth in a \\nspan of one year from the date of implementation \\nof the scheme.\\nAfter the training programme a STAR (Standard \\nTraining Assessment & Reward) certificate will \\nbe given by GoI, NSDC, RASCI/GJSCI which is \\nvalid all over India.\\nNature of assistance Assessment and training bodies for all purposes of \\nthe scheme will be separate and no overlap of \\nroles will be allowed to maintain transparency and \\nobjectivity . The monetary reward will be wholly \\nfunded by the Ministry of Finance, Government \\nof India, and will be effected through direct bank \\ntransfer to the beneficiaries’ accounts. \\nAppropriate consideration will be provided to the \\neconomically backward sections.\\nWho can apply The scheme is currently meant only for candidates \\navailing themselves of skill development \\ntrainings from eligible providers.\\nThose training providers, who have no prior \\naffiliation with any government institution or \\nNSDC, will go through a pre-screening process of \\nthe Sector Skill Councils (SSCs) according to an \\nAffiliation Protocol prepared by NSDC/SSC\\nEducation of minimum 10th Class pass is \\nnecessary and should be 18 years and above.\\nHow to apply Visit website for details: www .nscsindia.or g and \\n65'), Document(id='543a10e4-63b8-48ec-8eeb-d5ff4ae8bb6a', metadata={'page': 25.0, 'source': 'document/MSME_Schemes.pdf'}, page_content='XXXIV . MINISTR Y OF WOMEN AND CHILD\\nDEVELOPMENT237\\nWomen r elated schemes 238\\n1.Gender Budgeting 238\\n2.Support to Training and Employment  238\\nProgramme for Women (STEP)'), Document(id='67427ca5-b655-4790-b6e8-48f6af93c113', metadata={'page': 17.0, 'source': 'document/MSME_Schemes.pdf'}, page_content='XV.MINISTRY OF CONSUMER AFFAIRS, FOOD AND\\nPUBLIC DISTRIBUTION SCHEMES\\nXVI. MINISTR Y OF DEFENCE SCHEMES\\nXVII. NITI AAYOG SCHEMES \\nXVIII. MINISTR Y OF AGRICUL TURE 139\\n1.Antyodaya Anna Yojana (AA Y) 140\\n2.Private Entrepreneurs Guarantee (PEG) 141\\n143\\n1.Allotment of Class-V  ‘B’ Army surplus vehicles 144\\n2.Allotment of Mother Dairy Milk booths and Safal 145\\nshops\\n3.Allotment of Regular LPG Distributorship under 18% 146\\nquota\\n4.Coal Loading and Transportation 147\\n5.Coal Tipper Attachment 148\\n6.Gopaljee Dairy Milk booths/Milk shops/Retail outlets 149\\n7.Gopaljee Farm Fresh 149\\n8.Management of CNG station 150\\n151\\nSelf Employment and Talent Utilisation (SETU) 152\\n153\\n154\\n154\\n1.Marketing Research and Information Network 154\\n2.Strengthening of Agmark Grading Facilities 154\\n3.Development/Strengthening of Agricultural 154\\nMarketing Infrastructure, Grading & Standardisation \\n4.Gramin Bhandaran Yojana: A Capital Investment 155\\nSubsidy for Construction/Renovation of Rural Godowns\\n5.Small Farmers’  Agriculture-Business Consortium- 155\\nAgriculture - Business Development\\n6.Assistance to NCDC Programmes for 156\\nDevelopment of Cooperatives\\n7.Establishment of Agri-Clinics and Agri-Business 156\\n8.National Horticulture Board 156Enterprise Development Schemes\\nAgricultural Marketing Divisions')]\n",
      "I'm sorry, but the provided text doesn't contain information about MSMSE schemes by NITI Aayog. \n",
      "\n"
     ]
    }
   ],
   "source": [
    "our_query = \"Find me msmse schemes by niti ayog\"\n",
    "answer = retrieve_answers(vector_store, our_query)\n",
    "print(answer)"
   ]
  }
 ],
 "metadata": {
  "kernelspec": {
   "display_name": "llm",
   "language": "python",
   "name": "python3"
  },
  "language_info": {
   "codemirror_mode": {
    "name": "ipython",
    "version": 3
   },
   "file_extension": ".py",
   "mimetype": "text/x-python",
   "name": "python",
   "nbconvert_exporter": "python",
   "pygments_lexer": "ipython3",
   "version": "3.10.14"
  }
 },
 "nbformat": 4,
 "nbformat_minor": 2
}
