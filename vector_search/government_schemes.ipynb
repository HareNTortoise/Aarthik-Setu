{
 "cells": [
  {
   "cell_type": "markdown",
   "metadata": {},
   "source": [
    "## Import Libraries"
   ]
  },
  {
   "cell_type": "code",
   "execution_count": 200,
   "metadata": {},
   "outputs": [],
   "source": [
    "from langchain.chains.question_answering import load_qa_chain\n",
    "from langchain.document_loaders import PyPDFDirectoryLoader\n",
    "from langchain.text_splitter import RecursiveCharacterTextSplitter\n",
    "from langchain_ollama import OllamaEmbeddings\n",
    "from langchain.vectorstores import Pinecone\n",
    "from langchain.prompts import PromptTemplate\n",
    "from langchain_google_genai import ChatGoogleGenerativeAI\n",
    "from pinecone import Pinecone, ServerlessSpec\n",
    "from langchain_pinecone import PineconeVectorStore\n",
    "import os"
   ]
  },
  {
   "cell_type": "markdown",
   "metadata": {},
   "source": [
    "## Importing document"
   ]
  },
  {
   "cell_type": "code",
   "execution_count": 201,
   "metadata": {},
   "outputs": [],
   "source": [
    "# Lets Read the document\n",
    "def read_doc(directory):\n",
    "    file_loader = PyPDFDirectoryLoader(directory)\n",
    "    documents = file_loader.load()\n",
    "    return documents"
   ]
  },
  {
   "cell_type": "code",
   "execution_count": 202,
   "metadata": {},
   "outputs": [
    {
     "data": {
      "text/plain": [
       "266"
      ]
     },
     "execution_count": 202,
     "metadata": {},
     "output_type": "execute_result"
    }
   ],
   "source": [
    "doc = read_doc('./document')\n",
    "len(doc)"
   ]
  },
  {
   "cell_type": "markdown",
   "metadata": {},
   "source": [
    "## Create Chunks"
   ]
  },
  {
   "cell_type": "code",
   "execution_count": 203,
   "metadata": {},
   "outputs": [],
   "source": [
    "def chunk_data(docs, chunk_size=800, chunk_overlap=50):\n",
    "    text_splitter = RecursiveCharacterTextSplitter(\n",
    "        chunk_size=chunk_size, chunk_overlap=chunk_overlap)\n",
    "    doc = text_splitter.split_documents(docs)\n",
    "    return docs"
   ]
  },
  {
   "cell_type": "code",
   "execution_count": 204,
   "metadata": {},
   "outputs": [
    {
     "data": {
      "text/plain": [
       "266"
      ]
     },
     "execution_count": 204,
     "metadata": {},
     "output_type": "execute_result"
    }
   ],
   "source": [
    "documents = chunk_data(docs=doc)\n",
    "len(documents)"
   ]
  },
  {
   "cell_type": "markdown",
   "metadata": {},
   "source": [
    "## Embeddings"
   ]
  },
  {
   "cell_type": "code",
   "execution_count": 205,
   "metadata": {},
   "outputs": [
    {
     "data": {
      "text/plain": [
       "OllamaEmbeddings(model='llama3.1', base_url=None, client_kwargs={})"
      ]
     },
     "execution_count": 205,
     "metadata": {},
     "output_type": "execute_result"
    }
   ],
   "source": [
    "embeddings = OllamaEmbeddings(\n",
    "    model=\"llama3.1\"\n",
    ")\n",
    "embeddings"
   ]
  },
  {
   "cell_type": "code",
   "execution_count": 206,
   "metadata": {},
   "outputs": [
    {
     "name": "stdout",
     "output_type": "stream",
     "text": [
      "[0.0142708905, 0.0037594007, 0.0086252345]\n"
     ]
    }
   ],
   "source": [
    "input_text = \"The meaning of life is 42\"\n",
    "vector = embeddings.embed_query(input_text)\n",
    "print(vector[:3])"
   ]
  },
  {
   "cell_type": "markdown",
   "metadata": {},
   "source": [
    "## PineCone"
   ]
  },
  {
   "cell_type": "code",
   "execution_count": 207,
   "metadata": {},
   "outputs": [],
   "source": [
    "pc = Pinecone(api_key=os.getenv(\"PINECONE_API_KEY\"))\n",
    "index_name = \"government\""
   ]
  },
  {
   "cell_type": "code",
   "execution_count": 208,
   "metadata": {},
   "outputs": [],
   "source": [
    "index = pc.Index(index_name)"
   ]
  },
  {
   "cell_type": "code",
   "execution_count": 209,
   "metadata": {},
   "outputs": [
    {
     "name": "stdout",
     "output_type": "stream",
     "text": [
      "Index government already exists\n"
     ]
    }
   ],
   "source": [
    "if index is not None:\n",
    "    print(f\"Index {index_name} already exists\")\n",
    "else:\n",
    "    index = pc.create_index(name=index_name, metric=\"cosine\", dimension=4096,\n",
    "                            spec=ServerlessSpec(cloud=\"aws\", region=\"us-east-1\"))"
   ]
  },
  {
   "cell_type": "code",
   "execution_count": 210,
   "metadata": {},
   "outputs": [],
   "source": [
    "vector_store = PineconeVectorStore(index=index, embedding=embeddings, index_name=index_name)"
   ]
  },
  {
   "cell_type": "code",
   "execution_count": 211,
   "metadata": {},
   "outputs": [],
   "source": [
    "# vector_store.add_documents(documents=doc)"
   ]
  },
  {
   "cell_type": "code",
   "execution_count": 212,
   "metadata": {},
   "outputs": [],
   "source": []
  },
  {
   "cell_type": "markdown",
   "metadata": {},
   "source": [
    "## Loading Gemini"
   ]
  },
  {
   "cell_type": "code",
   "execution_count": 213,
   "metadata": {},
   "outputs": [
    {
     "data": {
      "text/plain": [
       "True"
      ]
     },
     "execution_count": 213,
     "metadata": {},
     "output_type": "execute_result"
    }
   ],
   "source": [
    "from dotenv import load_dotenv\n",
    "load_dotenv()"
   ]
  },
  {
   "cell_type": "code",
   "execution_count": 218,
   "metadata": {},
   "outputs": [],
   "source": [
    "llm = ChatGoogleGenerativeAI(\n",
    "    model=\"gemini-1.5-pro\", google_api_key=os.getenv(\"GEMINI_API_KEY\"), temperature=0.5)"
   ]
  },
  {
   "cell_type": "code",
   "execution_count": 215,
   "metadata": {},
   "outputs": [],
   "source": [
    "chain = load_qa_chain(llm,chain_type=\"stuff\")"
   ]
  },
  {
   "cell_type": "code",
   "execution_count": null,
   "metadata": {},
   "outputs": [],
   "source": [
    "# Cosine Similarity Retreive Results from VectorDB\n",
    "def retrieve_query(store, query, k=5):\n",
    "    matching_results = store.similarity_search(query, k=k)\n",
    "    return matching_results"
   ]
  },
  {
   "cell_type": "code",
   "execution_count": 216,
   "metadata": {},
   "outputs": [],
   "source": [
    "def retrieve_answers(store, query):\n",
    "    doc_search = retrieve_query(store, query)\n",
    "    print(doc_search)\n",
    "    response = chain.run(input_documents=doc_search, question=query)\n",
    "    return response"
   ]
  },
  {
   "cell_type": "code",
   "execution_count": 222,
   "metadata": {},
   "outputs": [
    {
     "name": "stdout",
     "output_type": "stream",
     "text": [
      "[Document(id='67427ca5-b655-4790-b6e8-48f6af93c113', metadata={'page': 17.0, 'source': 'document/MSME_Schemes.pdf'}, page_content='XV.MINISTRY OF CONSUMER AFFAIRS, FOOD AND\\nPUBLIC DISTRIBUTION SCHEMES\\nXVI. MINISTR Y OF DEFENCE SCHEMES\\nXVII. NITI AAYOG SCHEMES \\nXVIII. MINISTR Y OF AGRICUL TURE 139\\n1.Antyodaya Anna Yojana (AA Y) 140\\n2.Private Entrepreneurs Guarantee (PEG) 141\\n143\\n1.Allotment of Class-V  ‘B’ Army surplus vehicles 144\\n2.Allotment of Mother Dairy Milk booths and Safal 145\\nshops\\n3.Allotment of Regular LPG Distributorship under 18% 146\\nquota\\n4.Coal Loading and Transportation 147\\n5.Coal Tipper Attachment 148\\n6.Gopaljee Dairy Milk booths/Milk shops/Retail outlets 149\\n7.Gopaljee Farm Fresh 149\\n8.Management of CNG station 150\\n151\\nSelf Employment and Talent Utilisation (SETU) 152\\n153\\n154\\n154\\n1.Marketing Research and Information Network 154\\n2.Strengthening of Agmark Grading Facilities 154\\n3.Development/Strengthening of Agricultural 154\\nMarketing Infrastructure, Grading & Standardisation \\n4.Gramin Bhandaran Yojana: A Capital Investment 155\\nSubsidy for Construction/Renovation of Rural Godowns\\n5.Small Farmers’  Agriculture-Business Consortium- 155\\nAgriculture - Business Development\\n6.Assistance to NCDC Programmes for 156\\nDevelopment of Cooperatives\\n7.Establishment of Agri-Clinics and Agri-Business 156\\n8.National Horticulture Board 156Enterprise Development Schemes\\nAgricultural Marketing Divisions'), Document(id='6d7efa79-0ea2-4b40-a1ce-6a020d3abd30', metadata={'page': 20.0, 'source': 'document/MSME_Schemes.pdf'}, page_content='7.Special Economic Zone (SEZ) 176\\n8.Electronics Hardware Technology Park (EHTP) 176\\n9.Export Promotion Capital Goods (EPCG) 177\\n10.Duty Exemption and Remission 177\\n11.Deemed Exports 177\\n12.Manpower Development for Export Industry 178\\n13.Participation of Private Institutes under ISEA  178\\nProject\\n1.Certified Filing Centres (CFCs) Operated by 180\\nProfessionally Qualified Persons/Bodies to facilitate \\ne-filing of Documents\\n2.EES Filing scheme & Information 180\\n3.Fast Track Exit Mode 180\\n1.Fellowship to Outstanding Persons in the Field 182\\nof Culture\\n2.Financial Assistance for Capacity Building and 182\\nTraining of Museum Professionals \\n3.Building Grants, Including Studio Theatres. 182\\n184\\n1.Pradhan Mantri Mudra Yojana 184\\n186\\n1.Growth Capital and Equity Assistance 186\\n2.Refinance for Small Road Transport Operators 186\\n(SRTO)\\n3.General Refinance (GR) 186\\n4.Refinance for Textile Industry under Technology 187\\nUpgradation Fund\\n5.Acquisition of ISO Series Certification by MSE Units 187XXII. MINISTR Y OF CORPORA TE AFFAIRS \\nSCHEMES\\nXXIII. MINISTR Y OF CUL TURE SCHEMES\\nXXIV .MINISTR Y OF FINANCE179\\n181\\n183\\nMudra Bank Schemes\\nSIDBI Schemes'), Document(id='543a10e4-63b8-48ec-8eeb-d5ff4ae8bb6a', metadata={'page': 25.0, 'source': 'document/MSME_Schemes.pdf'}, page_content='XXXIV . MINISTR Y OF WOMEN AND CHILD\\nDEVELOPMENT237\\nWomen r elated schemes 238\\n1.Gender Budgeting 238\\n2.Support to Training and Employment  238\\nProgramme for Women (STEP)'), Document(id='0e83091b-c99f-43ee-9a8d-9c782d17403d', metadata={'page': 176.0, 'source': 'document/MSME_Schemes.pdf'}, page_content='NITI AAYOG SCHEMES'), Document(id='ef6eed56-3d09-4cb7-875a-05b4594d250a', metadata={'page': 264.0, 'source': 'document/MSME_Schemes.pdf'}, page_content='Udyami Helpline1800 - 180 - 6763\\n1800 - 180 - MSMEToll Free\\nUdyami Helpline 1800-180-6763 (T oll Fr ee) Udyami Helpline 1800-180-6763 (T oll Fr ee)\\nTimings : 6.00 t o 10.00 p.m. in Hindi / English\\nWe welcome all entr epreneurs to avail this facility .\\nMINISTR Y OF MICRO , SMALL & MEDIUM ENTERPRISES\\nGOVERNMENT OF INDIA\\nwww .msme. gov.in www .dcmsme. gov.inUdyami Helpline t o provide assis tance and guidance t o \\nprospectiv e as w ell as e xisting en trepreneur s about \\nopportunities and f acilities a vailable under v arious \\nschemes of the Gov ernmen t.Information about\\nMARKETING ASSIST ANCE\\nCREDIT SUPPORT\\nCLUSTER DEVEL OPMENT\\nTECHNOL OGY UPGRADA TION\\nSKILL DEVEL OPMENT\\nSETTING UP ENTERPRISE\\nSCHEMES OF MINISTR Y OF MSME')]\n",
      "The provided text mentions the following schemes related to the Ministry of Micro, Small & Medium Enterprises (MSME):\n",
      "\n",
      "**Udyami Helpline:** This toll-free helpline (1800-180-6763) provides assistance and guidance to prospective and existing entrepreneurs about opportunities and facilities available under various government schemes.\n",
      "\n",
      "**Marketing Assistance:** The text mentions \"MARKETING ASSISTANCE\" as a category of support offered by the MSME ministry, but it doesn't provide specific scheme names.\n",
      "\n",
      "**Credit Support:**  Similarly, \"CREDIT SUPPORT\" is listed as a category, but no specific schemes are mentioned.\n",
      "\n",
      "**Cluster Development:**  The text mentions \"CLUSTER DEVELOPMENT\" as a category, but no specific schemes are mentioned.\n",
      "\n",
      "**Technology Upgradation:** The text mentions \"TECHNOL OGY UPGRADA TION\" as a category, but no specific schemes are mentioned.\n",
      "\n",
      "**Skill Development:** The text mentions \"SKILL DEVEL OPMENT\" as a category, but no specific schemes are mentioned.\n",
      "\n",
      "**Setting Up Enterprise:** The text mentions \"SETTING UP ENTERPRISE\" as a category, but no specific schemes are mentioned.\n",
      "\n",
      "**Schemes of Ministry of MSME:** The text simply mentions \"SCHEMES OF MINISTR Y OF MSME\" without providing any details.\n",
      "\n",
      "**To get more specific information about MSME schemes, you can visit the following websites:**\n",
      "\n",
      "* **www.msme.gov.in**\n",
      "* **www.dcmsme.gov.in** \n",
      "\n",
      "These websites will provide detailed information about the various schemes offered by the Ministry of MSME. \n",
      "\n"
     ]
    }
   ],
   "source": [
    "our_query = \"Tell me about some of the msme schemes you know\"\n",
    "answer = retrieve_answers(vector_store, our_query)\n",
    "print(answer)"
   ]
  }
 ],
 "metadata": {
  "kernelspec": {
   "display_name": "llm",
   "language": "python",
   "name": "python3"
  },
  "language_info": {
   "codemirror_mode": {
    "name": "ipython",
    "version": 3
   },
   "file_extension": ".py",
   "mimetype": "text/x-python",
   "name": "python",
   "nbconvert_exporter": "python",
   "pygments_lexer": "ipython3",
   "version": "3.10.14"
  }
 },
 "nbformat": 4,
 "nbformat_minor": 2
}
